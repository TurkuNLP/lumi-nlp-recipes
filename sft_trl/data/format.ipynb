{
 "cells": [
  {
   "cell_type": "code",
   "execution_count": 2,
   "metadata": {},
   "outputs": [],
   "source": [
    "import json\n",
    "import os"
   ]
  },
  {
   "cell_type": "code",
   "execution_count": 3,
   "metadata": {},
   "outputs": [],
   "source": [
    "path = \"\""
   ]
  },
  {
   "cell_type": "code",
   "execution_count": 5,
   "metadata": {},
   "outputs": [],
   "source": [
    "#LIMA\n",
    "with open(\"finnish-instructions/lima_finnish/fin_lima_translated-enhanced-trimmed.jsonl\",\"r\") as f:\n",
    "    data = [json.loads(line) for line in f]\n",
    "\n",
    "with open(os.path.join(path,\"lima-fi-oai-style.jsonl\"), 'w',encoding=\"utf-8\") as f:\n",
    "    for line in data:\n",
    "        \n",
    "        temp = {\"messages\":[{'role':'user','content':line['question']},{'role':'assistant','content':line['answer']}]}\n",
    "        f.write(json.dumps(temp,ensure_ascii=False) + \"\\n\")\n",
    "        \n",
    "    "
   ]
  },
  {
   "cell_type": "code",
   "execution_count": 40,
   "metadata": {},
   "outputs": [],
   "source": [
    "#DOLLY15k\n",
    "with open(\"dolly-15k-fi.jsonl\",\"r\") as f:\n",
    "    data = [json.loads(line) for line in f]\n",
    "\n",
    "with open(os.path.join(path,\"dolly-15k-fi-oai-style.jsonl\"), 'w',encoding=\"utf-8\") as f:\n",
    "    for line in data:\n",
    "            #print(line)\n",
    "        if line['context'] is None:\n",
    "            temp = {\"messages\":[{'role':'user','content':line['instruction']},{'role':'assistant','content':line['response']}]}\n",
    "        else:\n",
    "            #Add context into the user message, prepended with a newline\n",
    "            temp = {\"messages\":[{'role':'user','content':line['instruction']+\"\\n\"+line['context']},{'role':'assistant','content':line['response']}]}\n",
    "        f.write(json.dumps(temp,ensure_ascii=False) + \"\\n\")\n",
    "        "
   ]
  },
  {
   "cell_type": "code",
   "execution_count": null,
   "metadata": {},
   "outputs": [],
   "source": []
  }
 ],
 "metadata": {
  "kernelspec": {
   "display_name": "Python 3 (ipykernel)",
   "language": "python",
   "name": "python3"
  },
  "language_info": {
   "codemirror_mode": {
    "name": "ipython",
    "version": 3
   },
   "file_extension": ".py",
   "mimetype": "text/x-python",
   "name": "python",
   "nbconvert_exporter": "python",
   "pygments_lexer": "ipython3",
   "version": "3.10.12"
  }
 },
 "nbformat": 4,
 "nbformat_minor": 4
}
